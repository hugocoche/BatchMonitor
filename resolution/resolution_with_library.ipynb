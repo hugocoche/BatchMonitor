version https://git-lfs.github.com/spec/v1
oid sha256:9a24ed0ba4d50b0ccda0d2487c1151b3f80685220e30adcf953e22ec8f335a84
size 92909
